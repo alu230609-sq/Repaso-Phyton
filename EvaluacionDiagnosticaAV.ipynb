{
  "nbformat": 4,
  "nbformat_minor": 0,
  "metadata": {
    "colab": {
      "provenance": [],
      "authorship_tag": "ABX9TyP/igYoYB0X8OR+N2w918fz",
      "include_colab_link": true
    },
    "kernelspec": {
      "name": "python3",
      "display_name": "Python 3"
    },
    "language_info": {
      "name": "python"
    }
  },
  "cells": [
    {
      "cell_type": "markdown",
      "metadata": {
        "id": "view-in-github",
        "colab_type": "text"
      },
      "source": [
        "<a href=\"https://colab.research.google.com/github/alu230609-sq/Repaso-Phyton/blob/main/EvaluacionDiagnosticaAV.ipynb\" target=\"_parent\"><img src=\"https://colab.research.google.com/assets/colab-badge.svg\" alt=\"Open In Colab\"/></a>"
      ]
    },
    {
      "cell_type": "markdown",
      "source": [
        "Codigo 1: Imprimir nombre, paterno y materno de Alumno"
      ],
      "metadata": {
        "id": "Dkp31_H400el"
      }
    },
    {
      "cell_type": "code",
      "source": [
        "print(\"Alexandra Guadalupe Flores Villanueva\")"
      ],
      "metadata": {
        "colab": {
          "base_uri": "https://localhost:8080/"
        },
        "id": "AAhqs195036N",
        "outputId": "25aa83f8-3222-4e75-ec54-c96c88851504"
      },
      "execution_count": 1,
      "outputs": [
        {
          "output_type": "stream",
          "name": "stdout",
          "text": [
            "Alexandra Guadalupe Flores Villanueva\n"
          ]
        }
      ]
    },
    {
      "cell_type": "markdown",
      "source": [
        "Codigo 2: Capturar 2 números decimales e imprimir Suma"
      ],
      "metadata": {
        "id": "J2gTUBol1OhD"
      }
    },
    {
      "cell_type": "code",
      "source": [
        "n1=float(input(\"Ingresa el numero 1: \"))\n",
        "n2=float(input(\"Ingresa el numero 2: \"))\n",
        "suma=(n1+n2)\n",
        "print(\"Suma: \" , suma)"
      ],
      "metadata": {
        "colab": {
          "base_uri": "https://localhost:8080/"
        },
        "id": "ypUUuhX_1P_1",
        "outputId": "bacdcec0-7c70-49bb-8cb2-e07cc1ae374a"
      },
      "execution_count": 3,
      "outputs": [
        {
          "output_type": "stream",
          "name": "stdout",
          "text": [
            "Ingresa el numero 1: 3.5\n",
            "Ingresa el numero 2: 3.5\n",
            "Suma:  7.0\n"
          ]
        }
      ]
    },
    {
      "cell_type": "markdown",
      "source": [
        "Codigo 3: Calcular el área de un círculo"
      ],
      "metadata": {
        "id": "2j0djc2b2aNp"
      }
    },
    {
      "cell_type": "code",
      "source": [
        "pi=3.1416\n",
        "radio=int(input(\"Ingresa el radio de tu circulo: \"))\n",
        "a=pi*(radio*radio)\n",
        "print(\"El area de tu circulo es: \" , a)"
      ],
      "metadata": {
        "colab": {
          "base_uri": "https://localhost:8080/"
        },
        "id": "F4NNGnpe2cta",
        "outputId": "6824af1d-889d-4ae3-c4e3-d57126abf657"
      },
      "execution_count": 7,
      "outputs": [
        {
          "output_type": "stream",
          "name": "stdout",
          "text": [
            "Ingresa el radio de tu circulo: 3\n",
            "El area de tu circulo es:  28.2744\n"
          ]
        }
      ]
    },
    {
      "cell_type": "markdown",
      "source": [
        "Codigo 4: Ejemplo de código y ventana resultante de semestre pasado"
      ],
      "metadata": {
        "id": "MzY9LLCT3qEp"
      }
    },
    {
      "cell_type": "markdown",
      "source": [
        "db.carros.find({modelo:\"taurus\"})\n",
        "\n",
        "db.carros.find({nocarros:55})\n",
        "\n",
        "db.carros.find({marca:\"fiat})\n",
        "\n",
        "db.carros.find({color:\"azul\"})\n",
        "\n",
        "db.carros.find({modelo:\"mustang\"})\n",
        "\n",
        "db.carros.find({nocarro:53})\n",
        "\n",
        "db.carros.find({modelo:\"MOBI\"})\n"
      ],
      "metadata": {
        "id": "YZmZD23P38cH"
      }
    }
  ]
}