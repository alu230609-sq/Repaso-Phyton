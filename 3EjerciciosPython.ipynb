{
  "nbformat": 4,
  "nbformat_minor": 0,
  "metadata": {
    "colab": {
      "provenance": [],
      "authorship_tag": "ABX9TyNy69dX9AIQat7RUHo/Tzg0",
      "include_colab_link": true
    },
    "kernelspec": {
      "name": "python3",
      "display_name": "Python 3"
    },
    "language_info": {
      "name": "python"
    }
  },
  "cells": [
    {
      "cell_type": "markdown",
      "metadata": {
        "id": "view-in-github",
        "colab_type": "text"
      },
      "source": [
        "<a href=\"https://colab.research.google.com/github/alu230609-sq/Repaso-Phyton/blob/main/3EjerciciosPython.ipynb\" target=\"_parent\"><img src=\"https://colab.research.google.com/assets/colab-badge.svg\" alt=\"Open In Colab\"/></a>"
      ]
    },
    {
      "cell_type": "code",
      "execution_count": null,
      "metadata": {
        "id": "dknhBWx85Ls4"
      },
      "outputs": [],
      "source": []
    },
    {
      "cell_type": "markdown",
      "source": [
        "Ejercicios a desarrollar en Colab con GitHub\n",
        "\n",
        "1.- Realizar un programa en python que te permita capturar dos numeros enteros e imprima la suma, la resta, la multiplicacion y la division de ambos.\n",
        "\n",
        "2.- Realizar un programa en python mediante el cual calcules el total de caracteres que tiene un nombre capturado desde el teclado.\n",
        "\n",
        "3.- Realizar un programa en python que permita imprimir los 7 dias de la semana."
      ],
      "metadata": {
        "id": "mz0MzKZD5RVw"
      }
    },
    {
      "cell_type": "code",
      "source": [
        "print (\"Bienvenido/a al programa\")\n",
        "n1=int(input(\"Ingresa el numero uno: \"))\n",
        "n2=int(input(\"Ingresa el numero 2: \"))\n",
        "suma=(n1+n2)\n",
        "resta=(n1-n2)\n",
        "mult=(n1*n2)\n",
        "div=(n1/n2)\n",
        "print(\"Suma: \" , suma)\n",
        "print(\"Resta: \" , resta)\n",
        "print(\"Multiplicacion: \" , mult)\n",
        "print(\"Division: \" , div)"
      ],
      "metadata": {
        "colab": {
          "base_uri": "https://localhost:8080/"
        },
        "id": "3E6oYZ9_6D12",
        "outputId": "b5bfca79-f9de-4479-f51b-febd93d5e579"
      },
      "execution_count": 20,
      "outputs": [
        {
          "output_type": "stream",
          "name": "stdout",
          "text": [
            "Bienvenido/a al programa\n",
            "Ingresa el numero uno: 4\n",
            "Ingresa el numero 2: 5\n",
            "Suma:  9\n",
            "Resta:  -1\n",
            "Multiplicacion:  20\n",
            "Division:  0.8\n"
          ]
        }
      ]
    },
    {
      "cell_type": "code",
      "source": [
        "nombre=input(\"Captura tu nombre: \")\n",
        "totalletras=len(nombre)\n",
        "print(\"El total de caracteres es: \", totalletras)"
      ],
      "metadata": {
        "colab": {
          "base_uri": "https://localhost:8080/"
        },
        "id": "WKyRN0hh8R4a",
        "outputId": "10015e06-9a3f-489e-ccd5-3cc25d4a1196"
      },
      "execution_count": 21,
      "outputs": [
        {
          "output_type": "stream",
          "name": "stdout",
          "text": [
            "Captura tu nombre: Alexandra\n",
            "El total de caracteres es:  9\n"
          ]
        }
      ]
    },
    {
      "cell_type": "code",
      "source": [
        "semana=[\"Lunes\", \"Martes\", \"Miercoles\", \"Jueves\", \"Viernes\", \"Sabado\", \"Domingo\"]\n",
        "print(semana)"
      ],
      "metadata": {
        "colab": {
          "base_uri": "https://localhost:8080/"
        },
        "id": "MA2-PA4j-269",
        "outputId": "4092e873-e205-4212-aa07-9858474c6c4a"
      },
      "execution_count": 18,
      "outputs": [
        {
          "output_type": "stream",
          "name": "stdout",
          "text": [
            "['Lunes', 'Martes', 'Miercoles', 'Jueves', 'Viernes', 'Sabado', 'Domingo']\n"
          ]
        }
      ]
    }
  ]
}