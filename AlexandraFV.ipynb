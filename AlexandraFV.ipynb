{
  "nbformat": 4,
  "nbformat_minor": 0,
  "metadata": {
    "colab": {
      "provenance": [],
      "authorship_tag": "ABX9TyPi8u8dCwTvrhTWzw1dLRxN",
      "include_colab_link": true
    },
    "kernelspec": {
      "name": "python3",
      "display_name": "Python 3"
    },
    "language_info": {
      "name": "python"
    }
  },
  "cells": [
    {
      "cell_type": "markdown",
      "metadata": {
        "id": "view-in-github",
        "colab_type": "text"
      },
      "source": [
        "<a href=\"https://colab.research.google.com/github/alu230609-sq/Repaso-Phyton/blob/main/AlexandraFV.ipynb\" target=\"_parent\"><img src=\"https://colab.research.google.com/assets/colab-badge.svg\" alt=\"Open In Colab\"/></a>"
      ]
    },
    {
      "cell_type": "code",
      "execution_count": null,
      "metadata": {
        "id": "PWU4TTVZz6-H"
      },
      "outputs": [],
      "source": []
    },
    {
      "cell_type": "markdown",
      "source": [
        "Programa 1 en python para imprimir mi nombre con hola mundo"
      ],
      "metadata": {
        "id": "f19Wj1bR0Kqa"
      }
    },
    {
      "cell_type": "code",
      "source": [
        "print (\"Hola Mundo\")\n",
        "nombre=(input(\"Captura tu nombre: \"))\n",
        "print (nombre)"
      ],
      "metadata": {
        "colab": {
          "base_uri": "https://localhost:8080/"
        },
        "id": "CP7xIUx90WOB",
        "outputId": "a23d4c04-a007-4c36-b22e-e314d8b37fb4"
      },
      "execution_count": 2,
      "outputs": [
        {
          "output_type": "stream",
          "name": "stdout",
          "text": [
            "Hola Mundo\n",
            "Captura tu nombre: Alexandra\n",
            "Alexandra\n"
          ]
        }
      ]
    },
    {
      "cell_type": "markdown",
      "source": [
        "Programa 2 capturar nombre, paterno y materno e imprimirlo en pantalla"
      ],
      "metadata": {
        "id": "F1hDba__1ZYY"
      }
    },
    {
      "cell_type": "code",
      "source": [
        "print (\"Hola, Bienvenido al registro\")\n",
        "nombre=(input(\"Ingresa tu nombre: \"))\n",
        "pa=(input(\"Ingresa tu apellido paterno: \"))\n",
        "ma=(input(\"Ingresa tu apellido materno: \"))\n",
        "print (\"Tu nombre es: \" + nombre + \" \" + pa + \" \" + ma)"
      ],
      "metadata": {
        "colab": {
          "base_uri": "https://localhost:8080/"
        },
        "id": "VaZHa1kw1jjv",
        "outputId": "7f1ba6e3-f5ff-4b96-f42d-5617ef508ea3"
      },
      "execution_count": 4,
      "outputs": [
        {
          "output_type": "stream",
          "name": "stdout",
          "text": [
            "Hola, Bienvenido al registro\n",
            "Ingresa tu nombre: Alexandra\n",
            "Ingresa tu apellido paterno: Flores\n",
            "Ingresa tu apellido materno: Villanueva\n",
            "Tu nombre es: Alexandra Flores Villanueva\n"
          ]
        }
      ]
    }
  ]
}